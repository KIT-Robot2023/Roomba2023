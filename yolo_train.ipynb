{
  "nbformat": 4,
  "nbformat_minor": 0,
  "metadata": {
    "colab": {
      "provenance": []
    },
    "kernelspec": {
      "name": "python3",
      "display_name": "Python 3"
    },
    "language_info": {
      "name": "python"
    }
  },
  "cells": [
    {
      "cell_type": "markdown",
      "source": [
        "# インストール\n",
        "\n",
        "pytorchをインストールしていなければ、インストールする必要がある。以下のリンクから適切なものを探しインストールする。\n",
        "\n",
        "（google colabで実行するならばインストールの必要はないはず）\n",
        "\n",
        "https://pytorch.org/"
      ],
      "metadata": {
        "id": "CWTKBSd1rIld"
      }
    },
    {
      "cell_type": "code",
      "execution_count": null,
      "metadata": {
        "id": "F-SExeECep4t"
      },
      "outputs": [],
      "source": [
        "!pip install ultralytics"
      ]
    },
    {
      "cell_type": "markdown",
      "source": [
        "# 使用したデータセットのリンク\n",
        "\n",
        "https://kanazawa-it.box.com/s/sre6zbj4g73lumtdsrefk47ow2bgx9s2\n",
        "\n",
        "datasetのマウントは各自で行うこと"
      ],
      "metadata": {
        "id": "rppuHaAr6qyl"
      }
    },
    {
      "cell_type": "markdown",
      "source": [
        "# yoloの転移学習\n",
        "以下のコマンドにより転移学習できる"
      ],
      "metadata": {
        "id": "bKuHVik8f_XP"
      }
    },
    {
      "cell_type": "code",
      "source": [
        "!yolo train model=yolov8n.pt data=dataset.yaml epochs=100 batch=32"
      ],
      "metadata": {
        "id": "ZHe7GaNDe-FN"
      },
      "execution_count": null,
      "outputs": []
    },
    {
      "cell_type": "markdown",
      "source": [
        "コマンドオプション\n",
        "\n",
        "・model 転移学習させたいモデルを指定 指定できるモデルはGitHub参照 default=None\n",
        "\n",
        "・data train, validation, testのデータのディレクトリについてまとめたymalファイルを指定 default=None\n",
        "\n",
        "・epochs ハイパーパラメータのepoch数の指定 default=100\n",
        "\n",
        "・time 学習時間の指定 ある時間以内に終わらせたいときに使用する。epochsで指定した値に達していないとき、そこで打ち切られる。 default=None\n",
        "\n",
        "・patience 学習を早期に停止する。検証の値が改善されない場合、このepoch数だけ実行し終了する。default=50\n",
        "\n",
        "・batch ハイパーパラメータのbatch sizeの指定。 default=16\n",
        "\n",
        "・imgsz 入力画像の1辺のサイズ default=640\n",
        "\n",
        "・save 学習の最も良いモデルの重みと最後のモデルの重みを保存。 default=True\n",
        "\n",
        "・save_period 学習中、モデルの最も良い重みを保存する頻度。 epoch数で指定 -1のとき無効にできる。 default=-1\n",
        "\n",
        "・cache データセットのメモリまたはディスクへのキャッシュを有効にすることができる。メモリの使用量を増加させることで、学習速度が向上する。default=False\n",
        "\n",
        "・device GPUの指定 複数使用する場合[0, 1]のようにリストで指定。 default=None\n",
        "\n",
        "・workers データの読み込みに使用するCPUの論理コア数の指定。増やすと学習速度が向上する。 default=8\n",
        "\n",
        "・project 学習結果の出力が保存されるディレクトリ名。 default=None\n",
        "\n",
        "・name 学習の実行名 学習のログと出力が保存されるサブディレクトリを作成するために使用。 default=None\n",
        "\n",
        "・exist_ok Trueのとき、既存のプロジェクト、ディレクトリが上書き保存される。default=False\n",
        "\n",
        "・pretrained 転移学習をするかの指定。 bool値または使用する重みのパスの指定ができる。default=True\n",
        "\n",
        "・optimizer 最適化関数の指定。SGD, Adam, AdamW, NAdam, RAdam, RMSProp, autoから指定。autoのとき、AdamWになる。default=auto\n",
        "\n",
        "・verbose 学習中に詳細な出力を有効にする。default=False\n",
        "\n",
        "・seed ランダムシードの指定。default=0\n",
        "\n",
        "・deterministic 決定論的アルゴリズムの使用を強制することで再現性を確保する。非決定論的アルゴリズムの制限により、パフォーマンスと速度に影響を与えることがある。default=True\n",
        "\n",
        "・single_cls 学習中にマルチクラスデータセット内のすべてのクラスを単一のクラスとして扱う。オブジェクトの存在に焦点を当てることができる。default=False\n",
        "\n",
        "・rect paddingを最小にするためのバッチ構成を最適化。効率と速度が向上する。モデルの精度に影響を及ぼす可能性がある。default=False\n",
        "\n",
        "・cos_lr cos学習率スケジューラを利用。epoch数に応じてcos関数に従い学習率を変化させる。default=False\n",
        "\n",
        "・close_mosaic 学習が完了する前に安定させるため、epoch数がepochs - close_mosaiceのときから学習完了までモザイクデータの拡張を無効にする。default=10\n",
        "\n",
        "・resume 最後に保存されたモデルの重みから学習を再開する。モデルの重み、最適化関数の状態、epoch数を自動的に読み込む。default=False\n",
        "\n",
        "・amp 自動混合精度学習を有効にしメモリ使用量を削減し精度への影響を最小にしつつ学習を高速化できる場合がある。default=True\n",
        "\n",
        "・fraction 学習に使用するデータセットの部分を指定する。default=1.0\n",
        "\n",
        "・profile 学習中にonnxおよびTensorRTの速度のプロファイリングを有効にする。default=False\n",
        "\n",
        "・freeze モデルの指定されたインデックスの層をフリーズさせる。微調整や転移学習に使用できる。default=None\n",
        "\n",
        "・lr0 学習率の初期値。SGD=0.01, Adam=0.001\n",
        "\n",
        "・lrf 学習率の最終値。lr0 x lrfにより計算される。default=0.01\n",
        "\n",
        "・momentum SGD、Adamを使用する際のmomentumの指定。default=0.937\n",
        "\n",
        "・weight_decay weight decayの指定。default=0.0005\n",
        "\n",
        "・warmup_epochs 学習率を低い値から徐々に初期学習率まで増加させ早期に学習を安定させる。default=3.0\n",
        "\n",
        "・warmup_momentum ウォームアップ中に設定されたmomentumを徐々に調整する。default=0.8\n",
        "\n",
        "・warmup_bias_lr ウォームアップ中のバイアスパラメータの学習率。default=0.1\n",
        "\n",
        "・box 損失関数内のボックス損失コンポーネントの重み。バウンディングボックス座標を正確に予測することの重点度合いに影響する。default=7.5\n",
        "\n",
        "・cls 損失関数内の分類損失の重み正しいクラス予測の重点度合いに影響する。default=0.5\n",
        "\n",
        "・dfl 分布焦点損失の重み。特定のyoloバージョンで詳細な分類に使用される。default=1.5\n",
        "\n",
        "・pose ポーズ損失の重み。default=12.0\n",
        "\n",
        "・kobj 姿勢推定の損失の重み。default=2.0\n",
        "\n",
        "・label_smoothing ラベル全体を均一に分布させ、汎化性を向上させることが可能。default=0.0\n",
        "\n",
        "・nbs 損失を正規化するための公称バッチサイズ。default=64\n",
        "\n",
        "・overla_mask 学習中にセグメンテーションマスクをオーバーラップするかの指定。default=True\n",
        "\n",
        "・mask_ratio セグメンテーションマスクのダウンサンプル率。マスクの解像度に影響する。default=4\n",
        "\n",
        "・dropout ドロップアウト率の指定。default=0.0\n",
        "\n",
        "・val 学習中に検証を有効にする。default=True\n",
        "\n",
        "・plots 学習中の予測例を生成し、学習の進行度を視覚的な洞察によりできる。default=False"
      ],
      "metadata": {
        "id": "cciFDS_M597G"
      }
    },
    {
      "cell_type": "markdown",
      "source": [
        "エラー無く実行できるとdataset.yamlのあるディレクトリの以下のディレクトリにbest.ptとlast.ptが保存される。\n",
        "\n",
        "runs/detect/train/weights\n",
        "\n",
        "best.ptが最も良い結果のときの重みとなるはず。"
      ],
      "metadata": {
        "id": "on76UO-qo4yy"
      }
    },
    {
      "cell_type": "markdown",
      "source": [
        "# GitHub\n",
        "\n",
        "https://github.com/ultralytics/ultralytics"
      ],
      "metadata": {
        "id": "mf3QhJbFoPbH"
      }
    }
  ]
}